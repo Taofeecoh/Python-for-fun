{
 "cells": [
  {
   "cell_type": "markdown",
   "id": "b6dd96aa",
   "metadata": {},
   "source": [
    "## Exercise 1: Print First 10 natural numbers using while loop"
   ]
  },
  {
   "cell_type": "code",
   "execution_count": 6,
   "id": "e9574436",
   "metadata": {},
   "outputs": [
    {
     "name": "stdout",
     "output_type": "stream",
     "text": [
      "1\n",
      "2\n",
      "3\n",
      "4\n",
      "5\n",
      "6\n",
      "7\n",
      "8\n",
      "9\n",
      "10\n"
     ]
    }
   ],
   "source": [
    "num = 1\n",
    "while num < 11:\n",
    "    print(num)\n",
    "    num = num + 1"
   ]
  },
  {
   "cell_type": "markdown",
   "id": "f1174171",
   "metadata": {},
   "source": [
    "## Exercise 2: Print pattern"
   ]
  },
  {
   "cell_type": "code",
   "execution_count": 61,
   "id": "bc17879b",
   "metadata": {},
   "outputs": [
    {
     "name": "stdout",
     "output_type": "stream",
     "text": [
      "1  \n",
      "2 2  \n",
      "3 3 3  \n",
      "4 4 4 4  \n",
      "5 5 5 5 5  \n"
     ]
    }
   ],
   "source": [
    "n = 5\n",
    "for x in range(1,n+1):\n",
    "    # print('This is x')\n",
    "    for y in range(1,x+1):\n",
    "        print(x, end=' ')\n",
    "    print(\" \")"
   ]
  },
  {
   "cell_type": "markdown",
   "id": "2d1d0092",
   "metadata": {},
   "source": [
    "## Exercise 3: Calculate the sum of all numbers from 1 to a given number"
   ]
  },
  {
   "cell_type": "code",
   "execution_count": 17,
   "id": "8c105fb4",
   "metadata": {},
   "outputs": [
    {
     "name": "stdout",
     "output_type": "stream",
     "text": [
      "Enter a number:\n",
      "10\n",
      "55\n"
     ]
    }
   ],
   "source": [
    "user_input = int(input('Enter a number:\\n'))\n",
    "print(sum(range(0, user_input+1)))"
   ]
  },
  {
   "cell_type": "code",
   "execution_count": 62,
   "id": "751b7556",
   "metadata": {},
   "outputs": [
    {
     "data": {
      "text/plain": [
       "\"\\nuser_input = int(input('Enter a number:\\n'))\\nprint('\\n')\\nfor num in range(0, user_input+1):\\n    print(num)\\n# print(output)\\n\""
      ]
     },
     "execution_count": 62,
     "metadata": {},
     "output_type": "execute_result"
    }
   ],
   "source": [
    "\"\"\"\n",
    "user_input = int(input('Enter a number:\\n'))\n",
    "print('\\n')\n",
    "for num in range(0, user_input+1):\n",
    "    print(num)\n",
    "# print(output)\n",
    "\"\"\""
   ]
  },
  {
   "cell_type": "markdown",
   "id": "07b4e43c",
   "metadata": {},
   "source": [
    "## Exercise 4: Write a program to print multiplication table of a given number"
   ]
  },
  {
   "cell_type": "code",
   "execution_count": 27,
   "id": "0ee47700",
   "metadata": {},
   "outputs": [
    {
     "name": "stdout",
     "output_type": "stream",
     "text": [
      "Enter a number:\n",
      "2\n",
      "2\n",
      "4\n",
      "6\n",
      "8\n",
      "10\n",
      "12\n",
      "14\n",
      "16\n",
      "18\n",
      "20\n"
     ]
    }
   ],
   "source": [
    "num = int(input('Enter a number:\\n'))\n",
    "for n in range(1,11):\n",
    "    print(num * n)"
   ]
  },
  {
   "cell_type": "markdown",
   "id": "63674222",
   "metadata": {},
   "source": [
    "## Exercise 5: Display numbers from a list using loop"
   ]
  },
  {
   "cell_type": "code",
   "execution_count": 86,
   "id": "58a641b0",
   "metadata": {},
   "outputs": [
    {
     "name": "stdout",
     "output_type": "stream",
     "text": [
      "75\n",
      "150\n",
      "145\n"
     ]
    }
   ],
   "source": [
    "numbers = [12, 75, 150, 180, 145, 525, 50]\n",
    "for num in numbers:\n",
    "    if num % 5 == 0 and num <= 150:\n",
    "        print(num)\n",
    "    elif num > 500:\n",
    "        break"
   ]
  },
  {
   "cell_type": "markdown",
   "id": "463e8a9c",
   "metadata": {},
   "source": [
    "## Exercise 6: Count the total number of digits in a number\n",
    "### Write a program to count the total number of digits in a number using a while loop"
   ]
  },
  {
   "cell_type": "code",
   "execution_count": 88,
   "id": "9afdd835",
   "metadata": {},
   "outputs": [
    {
     "name": "stdout",
     "output_type": "stream",
     "text": [
      "Enter number:\n",
      "7848757\n",
      "7\n"
     ]
    }
   ],
   "source": [
    "num = input('Enter number:\\n')\n",
    "print(len(num))"
   ]
  },
  {
   "cell_type": "markdown",
   "id": "9f76a21f",
   "metadata": {},
   "source": [
    "## Exercise 7: Print reverse pattern"
   ]
  },
  {
   "cell_type": "code",
   "execution_count": 125,
   "id": "6c9bcbd2",
   "metadata": {},
   "outputs": [
    {
     "name": "stdout",
     "output_type": "stream",
     "text": [
      "5 4 3 2 1 \n",
      "4 3 2 1 \n",
      "3 2 1 \n",
      "2 1 \n",
      "1 \n"
     ]
    }
   ],
   "source": [
    "x = 5\n",
    "for i in range(x, 0, -1):\n",
    "    for j in range(i, 0, -1):\n",
    "        print(j, end=' ')\n",
    "    print('')"
   ]
  },
  {
   "cell_type": "code",
   "execution_count": 106,
   "id": "a3ec112b",
   "metadata": {},
   "outputs": [
    {
     "name": "stdout",
     "output_type": "stream",
     "text": [
      "6\n",
      "5\n",
      "4\n",
      "3\n",
      "2\n",
      "1\n"
     ]
    }
   ],
   "source": [
    "x = 6\n",
    "for i in range(x, 0,-1):\n",
    "    print(i)"
   ]
  },
  {
   "cell_type": "markdown",
   "id": "1ae7124c",
   "metadata": {},
   "source": [
    "## Exercise 8: Print list in reverse order using a loop"
   ]
  },
  {
   "cell_type": "code",
   "execution_count": 99,
   "id": "53fbd215",
   "metadata": {},
   "outputs": [
    {
     "name": "stdout",
     "output_type": "stream",
     "text": [
      "50\n",
      "40\n",
      "30\n",
      "20\n",
      "10\n"
     ]
    }
   ],
   "source": [
    "list1 = [10, 20, 30, 40, 50]\n",
    "list1.reverse()\n",
    "\n",
    "for i in list1:\n",
    "    print(i)"
   ]
  },
  {
   "cell_type": "markdown",
   "id": "9662f043",
   "metadata": {},
   "source": [
    "## Exercise 9: Display numbers from -10 to -1 using for loop"
   ]
  },
  {
   "cell_type": "code",
   "execution_count": 107,
   "id": "0e6d1a48",
   "metadata": {},
   "outputs": [
    {
     "name": "stdout",
     "output_type": "stream",
     "text": [
      "-10\n",
      "-9\n",
      "-8\n",
      "-7\n",
      "-6\n",
      "-5\n",
      "-4\n",
      "-3\n",
      "-2\n",
      "-1\n"
     ]
    }
   ],
   "source": [
    "for x in range(-10, 0):\n",
    "    print(x)"
   ]
  },
  {
   "cell_type": "markdown",
   "id": "1912084f",
   "metadata": {},
   "source": [
    "## Exercise 10: Use else block to display a message “Done” after successful execution of for loop"
   ]
  },
  {
   "cell_type": "code",
   "execution_count": 109,
   "id": "349dbfbf",
   "metadata": {},
   "outputs": [
    {
     "name": "stdout",
     "output_type": "stream",
     "text": [
      "0\n",
      "1\n",
      "2\n",
      "3\n",
      "4\n",
      "5\n",
      "6\n",
      "Done!\n"
     ]
    }
   ],
   "source": [
    "for i in range(7):\n",
    "    print(i)\n",
    "print('Done!')"
   ]
  },
  {
   "cell_type": "markdown",
   "id": "44469435",
   "metadata": {},
   "source": [
    "## Exercise 11: Write a program to display all prime numbers within a range"
   ]
  },
  {
   "cell_type": "code",
   "execution_count": 195,
   "id": "5489f25c",
   "metadata": {},
   "outputs": [
    {
     "name": "stdout",
     "output_type": "stream",
     "text": [
      "29\n",
      "31\n",
      "37\n",
      "41\n",
      "43\n",
      "47\n"
     ]
    }
   ],
   "source": [
    "range_begins = 25\n",
    "range_ends = 50\n",
    "\n",
    "for num in range(range_begins, range_ends+1):\n",
    "    if num > 1:\n",
    "        for i in range(2, num):\n",
    "            if (num % i) == 0:\n",
    "                break\n",
    "        else:\n",
    "            print(num)"
   ]
  },
  {
   "cell_type": "markdown",
   "id": "97f991db",
   "metadata": {},
   "source": [
    "## Exercise 12: Display Fibonacci series up to 10 terms"
   ]
  },
  {
   "cell_type": "code",
   "execution_count": 145,
   "id": "f64d1e1f",
   "metadata": {},
   "outputs": [
    {
     "name": "stdout",
     "output_type": "stream",
     "text": [
      "0 1\n",
      "\n",
      "\n",
      "1\n",
      "2\n",
      "3\n",
      "5\n",
      "8\n",
      "13\n",
      "21\n",
      "34\n",
      "55\n",
      "89\n"
     ]
    }
   ],
   "source": [
    "a = 0\n",
    "b = 1\n",
    "print(a,b)\n",
    "print('\\n')\n",
    "for i in range(10):\n",
    "    c = a + b\n",
    "    a = b\n",
    "    b = c\n",
    "    print(c)"
   ]
  },
  {
   "cell_type": "markdown",
   "id": "28392f37",
   "metadata": {},
   "source": [
    "## Exercise 13: Find the factorial of a given number\n",
    "#### For example: calculate the factorial of 5"
   ]
  },
  {
   "cell_type": "code",
   "execution_count": 163,
   "id": "fb790986",
   "metadata": {},
   "outputs": [
    {
     "name": "stdout",
     "output_type": "stream",
     "text": [
      "Enter a number: 10\n",
      "\n",
      "\n",
      "3628800\n"
     ]
    }
   ],
   "source": [
    "numb = int(input('Enter a number: '))\n",
    "print('\\n')\n",
    "factorial = 1\n",
    "for i in range(1, numb+1):\n",
    "    factorial = factorial *i\n",
    "print(factorial)"
   ]
  },
  {
   "cell_type": "markdown",
   "id": "57aa966b",
   "metadata": {},
   "source": [
    "## Exercise 14: Reverse a given integer number\n",
    "#### Given: 76542"
   ]
  },
  {
   "cell_type": "code",
   "execution_count": 186,
   "id": "d02cfcf7",
   "metadata": {},
   "outputs": [
    {
     "name": "stdout",
     "output_type": "stream",
     "text": [
      "24567\n"
     ]
    }
   ],
   "source": [
    "x = 76542\n",
    "x = str(x)\n",
    "x = x[::-1]\n",
    "x=int(x)\n",
    "print(x)"
   ]
  },
  {
   "cell_type": "markdown",
   "id": "b2d38f62",
   "metadata": {},
   "source": [
    "## Exercise 15: Use a loop to display elements from a given list present at odd index positions"
   ]
  },
  {
   "cell_type": "code",
   "execution_count": 206,
   "id": "dc4ddb06",
   "metadata": {},
   "outputs": [
    {
     "name": "stdout",
     "output_type": "stream",
     "text": [
      "20 40 60 80 100 "
     ]
    }
   ],
   "source": [
    "my_list = [10, 20, 30, 40, 50, 60, 70, 80, 90, 100]\n",
    "\n",
    "for ls in my_list[1::2]:\n",
    "    print(ls, end=\" \")"
   ]
  },
  {
   "cell_type": "markdown",
   "id": "3b76cde2",
   "metadata": {},
   "source": [
    "## Exercise 16: Calculate the cube of all numbers from 1 to a given number"
   ]
  },
  {
   "cell_type": "code",
   "execution_count": 197,
   "id": "d485d516",
   "metadata": {},
   "outputs": [
    {
     "name": "stdout",
     "output_type": "stream",
     "text": [
      "Enter a number: \n",
      "10\n",
      "The current number is: 1 and the cube is 1\n",
      "The current number is: 2 and the cube is 8\n",
      "The current number is: 3 and the cube is 27\n",
      "The current number is: 4 and the cube is 64\n",
      "The current number is: 5 and the cube is 125\n",
      "The current number is: 6 and the cube is 216\n",
      "The current number is: 7 and the cube is 343\n",
      "The current number is: 8 and the cube is 512\n",
      "The current number is: 9 and the cube is 729\n",
      "The current number is: 10 and the cube is 1000\n"
     ]
    }
   ],
   "source": [
    "given_number = int(input('Enter a number: \\n'))\n",
    "\n",
    "for i in range(1,given_number+1):\n",
    "    print(f\"The current number is: {i} and the cube is {i**3}\")"
   ]
  },
  {
   "cell_type": "markdown",
   "id": "2db2b9d3",
   "metadata": {},
   "source": [
    "## Exercise 17: Find the sum of the series upto n terms\n",
    "#### Write a program to calculate the sum of series up to n term. For example, if n =5 the series will become 2 + 22 + 222 + 2222 + 22222 = 24690"
   ]
  },
  {
   "cell_type": "code",
   "execution_count": 223,
   "id": "58e31b51",
   "metadata": {},
   "outputs": [
    {
     "name": "stdout",
     "output_type": "stream",
     "text": [
      "22\n"
     ]
    }
   ],
   "source": [
    "\"\"\"\n",
    "n = 3\n",
    "num = 2 # input('Enter a number:\\n')\n",
    "for x in range(0,n):\n",
    "    numb = (num*10)+num\n",
    "    series_sum = numb\n",
    "print(series_sum)\n",
    "\"\"\""
   ]
  },
  {
   "cell_type": "code",
   "execution_count": 224,
   "id": "8b027ee9",
   "metadata": {},
   "outputs": [
    {
     "name": "stdout",
     "output_type": "stream",
     "text": [
      "2+22+222+2222+22222+\n",
      "Sum of above series is: 24690\n"
     ]
    }
   ],
   "source": [
    "n = 5\n",
    "# first number of sequence\n",
    "start = 2\n",
    "sum_seq = 0\n",
    "\n",
    "# run loop n times\n",
    "for i in range(0, n):\n",
    "    print(start, end=\"+\")\n",
    "    sum_seq += start\n",
    "    # calculate the next term\n",
    "    start = start * 10 + 2\n",
    "print(\"\\nSum of above series is:\", sum_seq)"
   ]
  },
  {
   "cell_type": "markdown",
   "id": "4ee83f51",
   "metadata": {},
   "source": [
    "## Exercise 18: Print pattern"
   ]
  },
  {
   "cell_type": "code",
   "execution_count": 225,
   "id": "fb2d4120",
   "metadata": {},
   "outputs": [
    {
     "name": "stdout",
     "output_type": "stream",
     "text": [
      "\n",
      "* \n",
      "* * \n",
      "* * * \n",
      "* * * * \n",
      "* * * * * \n",
      "* * * * \n",
      "* * * \n",
      "* * \n",
      "* \n"
     ]
    }
   ],
   "source": [
    "n = 5\n",
    "for i in range(n):\n",
    "    for j in range(i):\n",
    "        print('*', end=' ')\n",
    "    print('')\n",
    "for i in range(n,0,-1):\n",
    "    for j in range(i,0,-1):\n",
    "        print('*', end=' ')\n",
    "    print('')"
   ]
  }
 ],
 "metadata": {
  "kernelspec": {
   "display_name": "Python 3 (ipykernel)",
   "language": "python",
   "name": "python3"
  },
  "language_info": {
   "codemirror_mode": {
    "name": "ipython",
    "version": 3
   },
   "file_extension": ".py",
   "mimetype": "text/x-python",
   "name": "python",
   "nbconvert_exporter": "python",
   "pygments_lexer": "ipython3",
   "version": "3.11.5"
  }
 },
 "nbformat": 4,
 "nbformat_minor": 5
}
